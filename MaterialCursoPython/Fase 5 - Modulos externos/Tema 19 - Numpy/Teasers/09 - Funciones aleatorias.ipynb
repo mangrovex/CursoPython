{
 "cells": [
  {
   "cell_type": "markdown",
   "metadata": {},
   "source": [
    "## Funciones aleatorias\n",
    "Ya que estamos repasando funciones no podemos olvidar las funciones aleatorias de Numpy, encontradas en el módulo random.\n",
    "\n",
    "[En este enlace a la documentación oficial](https://docs.scipy.org/doc/numpy-1.12.0/reference/routines.random.html) encontraréis el listado completo con ejemplos de uso. \n",
    "\n",
    "Tenemos funciones para generar arrays con **datos aleatorios** y **permutaciones**. También hay muchas enfocadas a generar muestras de distribuciones de probabilidadpensadas para visualizar estadística.\n",
    "\n",
    "Vamos a practicar algunas de las dos primeras."
   ]
  },
  {
   "cell_type": "markdown",
   "metadata": {},
   "source": [
    "### Datos aleatorios"
   ]
  },
  {
   "cell_type": "code",
   "execution_count": 1,
   "metadata": {
    "collapsed": false
   },
   "outputs": [
    {
     "data": {
      "text/plain": [
       "0.9538418419856016"
      ]
     },
     "execution_count": 1,
     "metadata": {},
     "output_type": "execute_result"
    }
   ],
   "source": [
    "import numpy as np\n",
    "\n",
    "# Número decimal entre 0 y 1\n",
    "np.random.rand()"
   ]
  },
  {
   "cell_type": "code",
   "execution_count": 176,
   "metadata": {
    "collapsed": false
   },
   "outputs": [
    {
     "data": {
      "text/plain": [
       "array([ 0.98037833,  0.68852893,  0.94593868,  0.79645589])"
      ]
     },
     "execution_count": 176,
     "metadata": {},
     "output_type": "execute_result"
    }
   ],
   "source": [
    "# Array 1D de decimales entre 0 y 1\n",
    "np.random.rand(4)"
   ]
  },
  {
   "cell_type": "code",
   "execution_count": 177,
   "metadata": {
    "collapsed": false
   },
   "outputs": [
    {
     "data": {
      "text/plain": [
       "array([[ 0.9514949 ,  0.91115546],\n",
       "       [ 0.07018065,  0.76570926],\n",
       "       [ 0.96519048,  0.02009274],\n",
       "       [ 0.65534272,  0.79159674]])"
      ]
     },
     "execution_count": 177,
     "metadata": {},
     "output_type": "execute_result"
    }
   ],
   "source": [
    "# Array 2D de decimales entre 0 y 1\n",
    "np.random.rand(4,2)"
   ]
  },
  {
   "cell_type": "code",
   "execution_count": 188,
   "metadata": {
    "collapsed": false
   },
   "outputs": [
    {
     "data": {
      "text/plain": [
       "array([[[ 8.61778202,  6.81368708],\n",
       "        [ 7.99862719,  3.64448439]],\n",
       "\n",
       "       [[ 7.11681674,  8.11517456],\n",
       "        [ 5.29141264,  3.27754127]]])"
      ]
     },
     "execution_count": 188,
     "metadata": {},
     "output_type": "execute_result"
    }
   ],
   "source": [
    "# Array 3D de decimales entre 0 y N\n",
    "np.random.uniform(10, size=[2,2,2])"
   ]
  },
  {
   "cell_type": "code",
   "execution_count": 189,
   "metadata": {
    "collapsed": false
   },
   "outputs": [
    {
     "data": {
      "text/plain": [
       "array([[[[ 5.94066981, -6.10081435],\n",
       "         [-4.85375846,  4.51694499]],\n",
       "\n",
       "        [[ 3.1264627 , -8.57035636],\n",
       "         [ 4.71590752,  8.51147178]]],\n",
       "\n",
       "\n",
       "       [[[ 9.83840494,  8.51724141],\n",
       "         [ 0.59540768, -0.44959352]],\n",
       "\n",
       "        [[-4.82373399,  4.13123614],\n",
       "         [-4.25213011, -0.60892714]]]])"
      ]
     },
     "execution_count": 189,
     "metadata": {},
     "output_type": "execute_result"
    }
   ],
   "source": [
    "# Array 4D de decimales entre -N y M\n",
    "np.random.uniform(-10, 10, size=[2,2,2,2])"
   ]
  },
  {
   "cell_type": "code",
   "execution_count": 179,
   "metadata": {
    "collapsed": false
   },
   "outputs": [
    {
     "data": {
      "text/plain": [
       "9"
      ]
     },
     "execution_count": 179,
     "metadata": {},
     "output_type": "execute_result"
    }
   ],
   "source": [
    "# Número entero entre 0 y N\n",
    "np.random.randint(10)"
   ]
  },
  {
   "cell_type": "code",
   "execution_count": 180,
   "metadata": {
    "collapsed": false
   },
   "outputs": [
    {
     "data": {
      "text/plain": [
       "array([[8, 4],\n",
       "       [7, 4],\n",
       "       [0, 0]])"
      ]
     },
     "execution_count": 180,
     "metadata": {},
     "output_type": "execute_result"
    }
   ],
   "source": [
    "# Array de enteros entre 0 y N\n",
    "np.random.randint(10, size=[3,2])"
   ]
  },
  {
   "cell_type": "code",
   "execution_count": 181,
   "metadata": {
    "collapsed": false
   },
   "outputs": [
    {
     "data": {
      "text/plain": [
       "array([[ 9, -7],\n",
       "       [ 5,  4],\n",
       "       [ 7,  7]])"
      ]
     },
     "execution_count": 181,
     "metadata": {},
     "output_type": "execute_result"
    }
   ],
   "source": [
    "# Array de enteros entre -N y M\n",
    "np.random.randint(-10, 10, size=[3,2])"
   ]
  },
  {
   "cell_type": "code",
   "execution_count": 7,
   "metadata": {
    "collapsed": false
   },
   "outputs": [
    {
     "data": {
      "text/plain": [
       "array([  99.58174011,   98.94019668,   99.38469781,   99.81314095,\n",
       "        100.53315255,  100.66852502,   99.56303652,   99.76540897,\n",
       "        101.68074673,   99.05441905,  102.76941684,  100.6067768 ,\n",
       "        102.47589732,   98.24117958,   99.70057972,  101.3281897 ,\n",
       "         99.60896769,   99.590368  ,   99.34372526,  100.5856358 ,\n",
       "         99.03727702,  100.99962394,  100.1171753 ,  101.81315307,\n",
       "        101.05467297,   99.95206384,  101.87587947,   99.24353297,\n",
       "        100.61992394,   99.80765468,  102.53542462,  100.25564025,\n",
       "        100.40811632,  100.02837631,   98.26766458,   99.60548698,\n",
       "        102.09994144,   98.61632723,   99.93566814,  101.5493894 ,\n",
       "        100.55594049,   98.71575397,   98.02042488,   98.87100594,\n",
       "         97.2010937 ,  101.14885017,  101.67757319,  100.24826179,\n",
       "         99.23350491,   99.27491934,  100.35762076,   98.33052381,\n",
       "         98.45015526,  100.23155581,   99.49096989,   99.99585077,\n",
       "        100.13632862,  100.69897952,   99.04455444,  101.32800835,\n",
       "         98.74428593,   99.87817976,  102.428898  ,  100.46016485,\n",
       "        100.30881243,   99.93226989,   98.42010479,   99.9403824 ,\n",
       "        100.90203092,  100.76230328,  100.67722743,  100.6021269 ,\n",
       "        101.44802953,  100.5478045 ,   98.51328515,  100.92606831,\n",
       "        100.42066769,  100.32443294,   99.98808714,  101.2284227 ,\n",
       "        100.80708552,  100.77790157,   99.84509637,  101.56453545,\n",
       "        102.33305262,  100.77530683,   98.84009297,  100.2485916 ,\n",
       "        100.00019386,  100.58888801,  100.23316247,   99.45640634,\n",
       "        101.85020201,  100.76951763,  100.91736538,   99.17149002,\n",
       "         99.41791402,  100.23910155,  100.30837844,   99.8425438 ])"
      ]
     },
     "execution_count": 7,
     "metadata": {},
     "output_type": "execute_result"
    }
   ],
   "source": [
    "# Array uniforme (con curva gaussiana)\n",
    "np.random.normal(size=100)"
   ]
  },
  {
   "cell_type": "markdown",
   "metadata": {},
   "source": [
    "### Permutaciones"
   ]
  },
  {
   "cell_type": "code",
   "execution_count": 182,
   "metadata": {
    "collapsed": false
   },
   "outputs": [
    {
     "data": {
      "text/plain": [
       "array([0, 1, 2, 3, 4, 5, 6, 7, 8, 9])"
      ]
     },
     "execution_count": 182,
     "metadata": {},
     "output_type": "execute_result"
    }
   ],
   "source": [
    "arr = np.arange(10)\n",
    "arr"
   ]
  },
  {
   "cell_type": "code",
   "execution_count": 183,
   "metadata": {
    "collapsed": false
   },
   "outputs": [
    {
     "data": {
      "text/plain": [
       "array([3, 0, 6, 4, 7, 5, 1, 9, 8, 2])"
      ]
     },
     "execution_count": 183,
     "metadata": {},
     "output_type": "execute_result"
    }
   ],
   "source": [
    "# Desordenar un array (lo cambia)\n",
    "np.random.shuffle(arr)\n",
    "arr"
   ]
  },
  {
   "cell_type": "code",
   "execution_count": 184,
   "metadata": {
    "collapsed": false
   },
   "outputs": [
    {
     "data": {
      "text/plain": [
       "array([9, 4, 0, 3, 6, 1, 7, 8, 5, 2])"
      ]
     },
     "execution_count": 184,
     "metadata": {},
     "output_type": "execute_result"
    }
   ],
   "source": [
    "# Generar secuencia permutada a partir de un array (no lo cambia)\n",
    "np.random.permutation(arr)"
   ]
  },
  {
   "cell_type": "code",
   "execution_count": 185,
   "metadata": {
    "collapsed": false
   },
   "outputs": [
    {
     "data": {
      "text/plain": [
       "array([3, 0, 6, 4, 7, 5, 1, 9, 8, 2])"
      ]
     },
     "execution_count": 185,
     "metadata": {},
     "output_type": "execute_result"
    }
   ],
   "source": [
    "arr"
   ]
  },
  {
   "cell_type": "markdown",
   "metadata": {},
   "source": [
    "## Ejercicios"
   ]
  },
  {
   "cell_type": "code",
   "execution_count": null,
   "metadata": {
    "collapsed": true
   },
   "outputs": [],
   "source": []
  }
 ],
 "metadata": {
  "kernelspec": {
   "display_name": "Python 3",
   "language": "python",
   "name": "python3"
  },
  "language_info": {
   "codemirror_mode": {
    "name": "ipython",
    "version": 3
   },
   "file_extension": ".py",
   "mimetype": "text/x-python",
   "name": "python",
   "nbconvert_exporter": "python",
   "pygments_lexer": "ipython3",
   "version": "3.6.0"
  }
 },
 "nbformat": 4,
 "nbformat_minor": 2
}
