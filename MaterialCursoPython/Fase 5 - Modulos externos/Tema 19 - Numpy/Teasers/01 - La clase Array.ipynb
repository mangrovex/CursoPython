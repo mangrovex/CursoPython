{
 "cells": [
  {
   "cell_type": "markdown",
   "metadata": {},
   "source": [
    "## La clase Array\n",
    "En esta lección vamos a aprender lo más básico sobre los *arrays*.\n",
    "\n",
    "Los datos suelen presentarse en registros en forma de tablas, ya sea a través de ficheros o bases de datos, y los *arrays* nos ofrecen la forma perfecta de recuperarlos y trabajarlos.\n",
    "\n",
    "### Creación\n",
    "\n",
    "Numpy incluye una clase **array** (arreglo en español) con un montón de funcionalidades, así que vamos a hacer uso de ella para empezar nuestra andadura en el mundo del análisis de datos."
   ]
  },
  {
   "cell_type": "code",
   "execution_count": 5,
   "metadata": {
    "collapsed": false
   },
   "outputs": [],
   "source": [
    "# Normalmente se suele importar numpy como np ya que nos ahorra tiempo\n",
    "import numpy as np"
   ]
  },
  {
   "cell_type": "markdown",
   "metadata": {},
   "source": [
    "La forma más sencilla de crear un *array* es hacerlo a partir de una lista, y es que en esencia ambas estructuras son muy parecidas:"
   ]
  },
  {
   "cell_type": "code",
   "execution_count": 6,
   "metadata": {
    "collapsed": false
   },
   "outputs": [
    {
     "data": {
      "text/plain": [
       "array([1, 2, 3, 4, 5])"
      ]
     },
     "execution_count": 6,
     "metadata": {},
     "output_type": "execute_result"
    }
   ],
   "source": [
    "list_1 = [1,2,3,4,5]\n",
    "\n",
    "# Creamos un arreglo y lo mostramos\n",
    "arr_1 = np.array(list_1)\n",
    "\n",
    "arr_1"
   ]
  },
  {
   "cell_type": "markdown",
   "metadata": {},
   "source": [
    "Como podemos observar el tipo de la variable es array, ¿bastante obvio no? \n",
    "\n",
    "Por cierto, los arrays de una dimension se conocen también como **vectores**, y los arrays de dos dimensiones como **matrices**.\n",
    "\n",
    "Vamos a ver cómo crear un array 2D a partir de una lista de listas (o lista anidada)."
   ]
  },
  {
   "cell_type": "code",
   "execution_count": 7,
   "metadata": {
    "collapsed": false
   },
   "outputs": [
    {
     "data": {
      "text/plain": [
       "array([[ 1,  2,  3,  4,  5],\n",
       "       [ 6,  7,  8,  9, 10]])"
      ]
     },
     "execution_count": 7,
     "metadata": {},
     "output_type": "execute_result"
    }
   ],
   "source": [
    "list_2 = [6,7,8,9,10]\n",
    "\n",
    "# Lista de listas anidadas\n",
    "nested_list = [list_1, list_2]\n",
    "\n",
    "# Creamos un arreglo multidimensional y la mostramos\n",
    "arr_2 = np.array(nested_list)\n",
    "\n",
    "arr_2"
   ]
  },
  {
   "cell_type": "markdown",
   "metadata": {},
   "source": [
    "Evidentemente este proceso puede simplificarse en una sola línea:"
   ]
  },
  {
   "cell_type": "code",
   "execution_count": 8,
   "metadata": {
    "collapsed": false
   },
   "outputs": [
    {
     "data": {
      "text/plain": [
       "array([[ 1,  2,  3,  4,  5],\n",
       "       [ 6,  7,  8,  9, 10]])"
      ]
     },
     "execution_count": 8,
     "metadata": {},
     "output_type": "execute_result"
    }
   ],
   "source": [
    "arr_2 = np.array([list_1, list_2])\n",
    "\n",
    "arr_2"
   ]
  },
  {
   "cell_type": "markdown",
   "metadata": {},
   "source": [
    "### Tamaño\n",
    "Para saber el tamaño de un array podemos utilizar su método de clase **shape**:"
   ]
  },
  {
   "cell_type": "code",
   "execution_count": 9,
   "metadata": {
    "collapsed": false
   },
   "outputs": [
    {
     "data": {
      "text/plain": [
       "(2, 5)"
      ]
     },
     "execution_count": 9,
     "metadata": {},
     "output_type": "execute_result"
    }
   ],
   "source": [
    "arr_2.shape"
   ]
  },
  {
   "cell_type": "markdown",
   "metadata": {},
   "source": [
    "La truducción de **shape** vendría a ser **forma** y nos indica el tamaño de cada dimensión del array. \n",
    "\n",
    "Así que la forma de éste es 2 x 5 (2 de largo por 5 de alto), es decir, una tabla con 2 filas de 5 columnas:\n",
    "\n",
    "| 1 | 2 | 3 | 4 | &nbsp;5 |\n",
    "|---|---|---|---|---|\n",
    "| **6** | **7** | **8** | **9** | **10**|\n"
   ]
  },
  {
   "cell_type": "markdown",
   "metadata": {},
   "source": [
    "### Tipo\n",
    "El tipo de un array hace referencia al conjunto de datos que almacenan. Podemos consultar su tipo a través de su propiedad **dtype**:"
   ]
  },
  {
   "cell_type": "code",
   "execution_count": 10,
   "metadata": {
    "collapsed": false
   },
   "outputs": [],
   "source": [
    "arr_1.dtype"
   ]
  },
  {
   "cell_type": "markdown",
   "metadata": {},
   "source": [
    "En este caso al almacenar números enteros pequeños, Numpy ha considerado que el tipo del arreglo fuera de enteros de 32 bits de manera que se optimiza la memoria. Lo propio ocurriría si almacenamos decimales u otro tipo:"
   ]
  },
  {
   "cell_type": "code",
   "execution_count": 7,
   "metadata": {
    "collapsed": false
   },
   "outputs": [
    {
     "data": {
      "text/plain": [
       "dtype('float64')"
      ]
     },
     "execution_count": 7,
     "metadata": {},
     "output_type": "execute_result"
    }
   ],
   "source": [
    "arr_3 = np.array([3.1, 2.7, 5.5])\n",
    "arr_3.dtype"
   ]
  },
  {
   "cell_type": "markdown",
   "metadata": {},
   "source": [
    "Pero... ¿Y si el array no fuera homogéneo y tuviera datos de diferentes tipos?"
   ]
  },
  {
   "cell_type": "code",
   "execution_count": 8,
   "metadata": {
    "collapsed": false
   },
   "outputs": [
    {
     "data": {
      "text/plain": [
       "dtype('<U4')"
      ]
     },
     "execution_count": 8,
     "metadata": {},
     "output_type": "execute_result"
    }
   ],
   "source": [
    "arr_4 = np.array([\"Hola\", 3, 5.5])\n",
    "arr_4.dtype"
   ]
  },
  {
   "cell_type": "markdown",
   "metadata": {},
   "source": [
    "¡Qué tipo de dato tan extraño! Si consultamos la [documentación oficial de Numpy](https://docs.scipy.org/doc/numpy-1.9.3/reference/arrays.dtypes.html) nos indica que U4 es Unicode, es decir, se transforma en un array de texto. De hecho si lo consultamos veremos como los valores ahora son cadenas entre comillas:"
   ]
  },
  {
   "cell_type": "code",
   "execution_count": 9,
   "metadata": {
    "collapsed": false
   },
   "outputs": [
    {
     "data": {
      "text/plain": [
       "array(['Hola', '3', '5.5'], \n",
       "      dtype='<U4')"
      ]
     },
     "execution_count": 9,
     "metadata": {},
     "output_type": "execute_result"
    }
   ],
   "source": [
    "arr_4"
   ]
  },
  {
   "cell_type": "markdown",
   "metadata": {
    "collapsed": false
   },
   "source": [
    "Así que no olvidéis que dependiendo de los valores que guardemos en el array su tipo puede ser alterado."
   ]
  },
  {
   "cell_type": "markdown",
   "metadata": {},
   "source": [
    "## Ejercicios"
   ]
  },
  {
   "cell_type": "code",
   "execution_count": null,
   "metadata": {
    "collapsed": true
   },
   "outputs": [],
   "source": []
  }
 ],
 "metadata": {
  "kernelspec": {
   "display_name": "Python 3",
   "language": "python",
   "name": "python3"
  },
  "language_info": {
   "codemirror_mode": {
    "name": "ipython",
    "version": 3
   },
   "file_extension": ".py",
   "mimetype": "text/x-python",
   "name": "python",
   "nbconvert_exporter": "python",
   "pygments_lexer": "ipython3",
   "version": "3.6.0"
  }
 },
 "nbformat": 4,
 "nbformat_minor": 0
}
