{
 "cells": [
  {
   "cell_type": "markdown",
   "metadata": {
    "collapsed": true
   },
   "source": [
    "## Arrays y persistencia\n",
    "Para despedir la unidad vamos a aprender algunas funciones muy útiles que nos permitirán almacenar nuestros arrays en ficheros. Vienen bien si estamos trabajando y necesitamos almacenar nuestros datos para recuperarlos en otro momento y hacer uso de ellos.\n",
    "\n",
    "Veremos dos métodos, el clásico en ficheros binarios y la variante en formato de texto. La diferencia entre ambos formatos es que los primeros no se pueden abrir con un editor de texto y editarlos, pero los segundos sí, así que permiten hacer cambios en vivo. A cambio **los ficheros binarios pueden almacenar varios arrays** y los **ficheros de texto únicamente un array por fichero**, así que utilizad las dos formas dependiendo de vuestros intereses.\n",
    "\n",
    "Para más información sobre la persistencia chequead la sección pertinente en [la documentación oficial en este enlace](https://docs.scipy.org/doc/numpy-1.12.0/reference/routines.io.html).\n",
    "\n",
    "### Guardado binario"
   ]
  },
  {
   "cell_type": "code",
   "execution_count": 11,
   "metadata": {
    "collapsed": false
   },
   "outputs": [
    {
     "data": {
      "text/plain": [
       "array([[1, 2, 0],\n",
       "       [2, 1, 3],\n",
       "       [1, 0, 0]])"
      ]
     },
     "execution_count": 11,
     "metadata": {},
     "output_type": "execute_result"
    }
   ],
   "source": [
    "import numpy as np\n",
    "\n",
    "arr_1 = np.random.randint(0,4,[3,3])\n",
    "arr_1"
   ]
  },
  {
   "cell_type": "code",
   "execution_count": 12,
   "metadata": {
    "collapsed": false
   },
   "outputs": [],
   "source": [
    "# Para guardarlo utilizamos la ruta y la extensin .npy\n",
    "np.save('arr_1.npy', arr_1)"
   ]
  },
  {
   "cell_type": "markdown",
   "metadata": {},
   "source": [
    "En esto punto tendríamos en el mismo directorio donde hemos ejecutado el comando el fichero array.npy. Si indicamos un directorio hasta el fichero lo crearemos ahí, pero tenemos que estar seguros de que el directorio existe y de que tengamos permisos para escribir."
   ]
  },
  {
   "cell_type": "code",
   "execution_count": 13,
   "metadata": {
    "collapsed": false
   },
   "outputs": [
    {
     "ename": "NameError",
     "evalue": "name 'arr_1' is not defined",
     "output_type": "error",
     "traceback": [
      "\u001b[0;31m---------------------------------------------------------------------------\u001b[0m",
      "\u001b[0;31mNameError\u001b[0m                                 Traceback (most recent call last)",
      "\u001b[0;32m<ipython-input-13-7d1d4ec1d483>\u001b[0m in \u001b[0;36m<module>\u001b[0;34m()\u001b[0m\n\u001b[1;32m      1\u001b[0m \u001b[1;31m# Ahora eliminamos el array  para asegurarnos de que ya no existe\u001b[0m\u001b[1;33m\u001b[0m\u001b[1;33m\u001b[0m\u001b[0m\n\u001b[1;32m      2\u001b[0m \u001b[1;32mdel\u001b[0m\u001b[1;33m(\u001b[0m\u001b[0marr_1\u001b[0m\u001b[1;33m)\u001b[0m\u001b[1;33m\u001b[0m\u001b[0m\n\u001b[0;32m----> 3\u001b[0;31m \u001b[0marr_1\u001b[0m\u001b[1;33m\u001b[0m\u001b[0m\n\u001b[0m",
      "\u001b[0;31mNameError\u001b[0m: name 'arr_1' is not defined"
     ]
    }
   ],
   "source": [
    "# Ahora eliminamos el array  para asegurarnos de que ya no existe\n",
    "del(arr_1)\n",
    "arr_1"
   ]
  },
  {
   "cell_type": "code",
   "execution_count": 14,
   "metadata": {
    "collapsed": false
   },
   "outputs": [
    {
     "data": {
      "text/plain": [
       "array([[1, 2, 0],\n",
       "       [2, 1, 3],\n",
       "       [1, 0, 0]])"
      ]
     },
     "execution_count": 14,
     "metadata": {},
     "output_type": "execute_result"
    }
   ],
   "source": [
    "# Y lo cargamos de nuevo\n",
    "arr_1 = np.load('arr_1.npy')\n",
    "arr_1"
   ]
  },
  {
   "cell_type": "markdown",
   "metadata": {},
   "source": [
    "De esta forma podemos guardar y leer un array en un fichero, pero podemos guardar y recuperar varios a la vez:"
   ]
  },
  {
   "cell_type": "code",
   "execution_count": 15,
   "metadata": {
    "collapsed": false
   },
   "outputs": [],
   "source": [
    "arr_2 = np.random.randint(-4,0,[3,3])\n",
    "\n",
    "# Utilizaremos savez para guardar de forma comprimida con la extensión .npz\n",
    "# Especificaremos una clave para cada array que queramos guardar\n",
    "np.savez('arrays.npz', arr_1=arr, arr_2=arr_2)"
   ]
  },
  {
   "cell_type": "code",
   "execution_count": 16,
   "metadata": {
    "collapsed": true
   },
   "outputs": [],
   "source": [
    "# Ahora los borramos\n",
    "del(arr_1)\n",
    "del(arr_2)"
   ]
  },
  {
   "cell_type": "code",
   "execution_count": 18,
   "metadata": {
    "collapsed": false
   },
   "outputs": [
    {
     "data": {
      "text/plain": [
       "<numpy.lib.npyio.NpzFile at 0x20bae86d908>"
      ]
     },
     "execution_count": 18,
     "metadata": {},
     "output_type": "execute_result"
    }
   ],
   "source": [
    "# Y los cargamos de nuevo\n",
    "arrays = np.load('arrays.npz')\n",
    "arrays"
   ]
  },
  {
   "cell_type": "markdown",
   "metadata": {},
   "source": [
    "Como véis el objeto recuperado es un NpzFile, en realidad es como un diccionario así que podemos recuperar los arrays a partir del nombre con que los hemos guardado:"
   ]
  },
  {
   "cell_type": "code",
   "execution_count": 19,
   "metadata": {
    "collapsed": false
   },
   "outputs": [
    {
     "data": {
      "text/plain": [
       "array([[2, 3, 3],\n",
       "       [3, 3, 2],\n",
       "       [3, 3, 3]])"
      ]
     },
     "execution_count": 19,
     "metadata": {},
     "output_type": "execute_result"
    }
   ],
   "source": [
    "arrays['arr_1']"
   ]
  },
  {
   "cell_type": "code",
   "execution_count": 20,
   "metadata": {
    "collapsed": false
   },
   "outputs": [
    {
     "data": {
      "text/plain": [
       "array([[-2, -1, -2],\n",
       "       [-3, -2, -2],\n",
       "       [-1, -1, -4]])"
      ]
     },
     "execution_count": 20,
     "metadata": {},
     "output_type": "execute_result"
    }
   ],
   "source": [
    "arrays['arr_2']"
   ]
  },
  {
   "cell_type": "markdown",
   "metadata": {
    "collapsed": true
   },
   "source": [
    "### Guardado en texto\n",
    "Básicamente se hace de la misma forma, pero las funciones cambian:\n",
    "\n",
    "* Para guardar de save -> savetxt\n",
    "* Para cargar de load -> loadtxt"
   ]
  },
  {
   "cell_type": "code",
   "execution_count": 36,
   "metadata": {
    "collapsed": false
   },
   "outputs": [
    {
     "data": {
      "text/plain": [
       "array([[-6,  9, -8],\n",
       "       [ 0,  3,  6],\n",
       "       [ 4,  0,  4]])"
      ]
     },
     "execution_count": 36,
     "metadata": {},
     "output_type": "execute_result"
    }
   ],
   "source": [
    "# Creamos un array de prueba\n",
    "arr_3 = np.random.randint(-10,10,[3,3])\n",
    "arr_3"
   ]
  },
  {
   "cell_type": "code",
   "execution_count": 37,
   "metadata": {
    "collapsed": false
   },
   "outputs": [],
   "source": [
    "# Lo guardamos en un fichero de texto, el formato es libre\n",
    "np.savetxt('arr_3.txt', arr_3)"
   ]
  },
  {
   "cell_type": "markdown",
   "metadata": {
    "collapsed": false
   },
   "source": [
    "Por defecto los arrays en ficheros de texto se guardan con filas separadas por saltos de línea y columnas separadas por espacios:\n",
    "\n",
    "```\n",
    "2.000000000000000000e+00 -4.000000000000000000e+00 -6.000000000000000000e+00\n",
    "7.000000000000000000e+00 -5.000000000000000000e+00 -7.000000000000000000e+00\n",
    "-1.000000000000000000e+01 -4.000000000000000000e+00 -1.000000000000000000e+01\n",
    "```\n",
    "\n",
    "Nosotros podemos establecer el separador a voluntad. Por ejemplo:"
   ]
  },
  {
   "cell_type": "code",
   "execution_count": 41,
   "metadata": {
    "collapsed": true
   },
   "outputs": [],
   "source": [
    "# Columnas con ,\n",
    "np.savetxt('arr_3.txt', arr_3, delimiter=',')"
   ]
  },
  {
   "cell_type": "markdown",
   "metadata": {},
   "source": [
    "Esto generaría algo como:\n",
    "```\n",
    "-6.000000000000000000e+00,9.000000000000000000e+00,-8.000000000000000000e+00\n",
    "0.000000000000000000e+00,3.000000000000000000e+00,6.000000000000000000e+00\n",
    "4.000000000000000000e+00,0.000000000000000000e+00,4.000000000000000000e+00\n",
    "\n",
    "```\n",
    "No importa como lo guardemos, lo importante es que a la hora de recuperarlos indiquemos los separadores si los hemos cambiado:"
   ]
  },
  {
   "cell_type": "code",
   "execution_count": 39,
   "metadata": {
    "collapsed": true
   },
   "outputs": [],
   "source": [
    "# Lo borramos\n",
    "del(arr_3)"
   ]
  },
  {
   "cell_type": "code",
   "execution_count": 40,
   "metadata": {
    "collapsed": false
   },
   "outputs": [
    {
     "data": {
      "text/plain": [
       "array([[-6.,  9., -8.],\n",
       "       [ 0.,  3.,  6.],\n",
       "       [ 4.,  0.,  4.]])"
      ]
     },
     "execution_count": 40,
     "metadata": {},
     "output_type": "execute_result"
    }
   ],
   "source": [
    "# Lo cargamos indicando el separador (si lo hemos cambiado)\n",
    "arr_3 = np.loadtxt('arr_3.txt', delimiter=',')\n",
    "arr_3"
   ]
  },
  {
   "cell_type": "markdown",
   "metadata": {},
   "source": [
    "## Ejercicios"
   ]
  },
  {
   "cell_type": "code",
   "execution_count": null,
   "metadata": {
    "collapsed": true
   },
   "outputs": [],
   "source": []
  }
 ],
 "metadata": {
  "kernelspec": {
   "display_name": "Python 3",
   "language": "python",
   "name": "python3"
  },
  "language_info": {
   "codemirror_mode": {
    "name": "ipython",
    "version": 3
   },
   "file_extension": ".py",
   "mimetype": "text/x-python",
   "name": "python",
   "nbconvert_exporter": "python",
   "pygments_lexer": "ipython3",
   "version": "3.6.0"
  }
 },
 "nbformat": 4,
 "nbformat_minor": 0
}
