{
 "cells": [
  {
   "cell_type": "markdown",
   "metadata": {
    "collapsed": true
   },
   "source": [
    "# Figuras\n",
    "\n",
    "Supongo que a estas alturas todos sabemos que Python es un lenguaje orientado a objetos. \n",
    "\n",
    "Utilizar clases y objetos da mucho juego en nuestros programas, por eso todo lo que hemos aprendido se puede aplicar en conjunto a la programación orientada a objetos, permitiéndonos crear una instancia base sobre la que dibujar llamada **figure**.\n",
    "\n",
    "Veamos cómo se hace."
   ]
  },
  {
   "cell_type": "code",
   "execution_count": 55,
   "metadata": {
    "collapsed": true
   },
   "outputs": [],
   "source": [
    "import matplotlib.pyplot as plt\n",
    "%matplotlib inline "
   ]
  },
  {
   "cell_type": "code",
   "execution_count": 73,
   "metadata": {
    "collapsed": false
   },
   "outputs": [
    {
     "data": {
      "text/plain": [
       "<matplotlib.text.Text at 0x2a6a37f5f28>"
      ]
     },
     "execution_count": 73,
     "metadata": {},
     "output_type": "execute_result"
    },
    {
     "data": {
      "image/png": "[encoded data removed]",
      "text/plain": [
       "<matplotlib.figure.Figure at 0x2a6a3758b70>"
      ]
     },
     "metadata": {},
     "output_type": "display_data"
    }
   ],
   "source": [
    "from random import sample\n",
    "\n",
    "# La figura crea el espacio donde visualizaremos el gráfico\n",
    "fig = plt.figure()\n",
    "\n",
    "# Pero necesitamos definir unos límites de dibujo en un rectángulo\n",
    "# (l,b,w,h) - Nota: En jupyter l y b para el primer gráfico no se tienen en cuenta\n",
    "rect = (0, 0, 1.5, 0.25)   \n",
    "\n",
    "# Ahora añadimos los límites para crear un objeto de ejes sobre el que dibujar el gráfico\n",
    "axes = fig.add_axes(rect)\n",
    "\n",
    "# A partir de este objeto podremos crear nuestro gráfico como si fuera el clásico plt\n",
    "x = range(1,11)\n",
    "y = sample(range(20), len(x))\n",
    "axes.plot(x, y)\n",
    "\n",
    "# La mayor diferencia ahora es a la hora de personalizar el gráfico, teniéndonos  \n",
    "# que referir a los métodos con la palabra set precediendo del nombre clásico\n",
    "axes.set_xlabel(\"Eje X\")\n",
    "axes.set_ylabel(\"Eje Y\")\n",
    "axes.set_title(\"Título\")"
   ]
  },
  {
   "cell_type": "markdown",
   "metadata": {},
   "source": [
    "Gracias a las figuras podemos controlar a la perfección el espacio de dibujo de los gráficos, ¿pero que hay de los subgráficos? \n",
    "\n",
    "Lo veremos en la siguiente lección."
   ]
  }
 ],
 "metadata": {
  "kernelspec": {
   "display_name": "Python 3",
   "language": "python",
   "name": "python3"
  },
  "language_info": {
   "codemirror_mode": {
    "name": "ipython",
    "version": 3
   },
   "file_extension": ".py",
   "mimetype": "text/x-python",
   "name": "python",
   "nbconvert_exporter": "python",
   "pygments_lexer": "ipython3",
   "version": "3.6.0"
  }
 },
 "nbformat": 4,
 "nbformat_minor": 2
}
